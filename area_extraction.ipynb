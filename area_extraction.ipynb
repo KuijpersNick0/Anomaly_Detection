{
 "cells": [
  {
   "cell_type": "code",
   "execution_count": 40,
   "metadata": {},
   "outputs": [],
   "source": [
    "import sys\n",
    "import os\n",
    "import re\n",
    "import json\n",
    "from pathlib2 import Path\n",
    "import os.path \n",
    "\n",
    "import pandas as pd\n",
    "from tqdm.notebook import tqdm\n",
    "from datetime import datetime \n",
    "\n",
    "import numpy as np \n",
    "import cv2 \n",
    "import lmfit\n",
    "from lmfit import Model, Parameters\n",
    "from scipy.optimize import minimize"
   ]
  },
  {
   "cell_type": "code",
   "execution_count": 2,
   "metadata": {},
   "outputs": [],
   "source": [
    "#  Import du csv generer de clean_csv.ipynb\n",
    "df_main_board = pd.read_csv('../data/board_info_csv/processed/board_data_2F2.csv')\n",
    "df_top = df_main_board[df_main_board['Layer'] == 'TopLayer'].copy() "
   ]
  },
  {
   "cell_type": "code",
   "execution_count": 5,
   "metadata": {},
   "outputs": [],
   "source": [
    "main_path = Path('../data/data_default_processed/')\n",
    "prog = re.compile(r'2\\.F\\.2_G(\\d+)\\s*-\\s*([\\w\\s]+Top[\\w\\s]*)_PP(\\d+)\\.jpg')"
   ]
  },
  {
   "cell_type": "code",
   "execution_count": 6,
   "metadata": {},
   "outputs": [
    {
     "name": "stdout",
     "output_type": "stream",
     "text": [
      "[{'id': 156, 'path': '../data/data_default_processed/2.F.2_G156 - F2BFB6528B_Top_PP2.jpg', 'orientation': 'F2BFB6528B_Top', 'photo_id': 2}, {'id': 156, 'path': '../data/data_default_processed/2.F.2_G156 - F2BFB6528B_Top_PP1.jpg', 'orientation': 'F2BFB6528B_Top', 'photo_id': 1}, {'id': 306, 'path': '../data/data_default_processed/2.F.2_G306 - 3C890ADF5F_Top_PP1.jpg', 'orientation': '3C890ADF5F_Top', 'photo_id': 1}, {'id': 149, 'path': '../data/data_default_processed/2.F.2_G149 - 4A22055D30_Top_PP1.jpg', 'orientation': '4A22055D30_Top', 'photo_id': 1}, {'id': 177, 'path': '../data/data_default_processed/2.F.2_G177 - 8F13819335_Top_PP1.jpg', 'orientation': '8F13819335_Top', 'photo_id': 1}, {'id': 296, 'path': '../data/data_default_processed/2.F.2_G296 - 5EF56B3888_Top_PP1.jpg', 'orientation': '5EF56B3888_Top', 'photo_id': 1}, {'id': 240, 'path': '../data/data_default_processed/2.F.2_G240 - 0ACCC7D22F_Top_PP1.jpg', 'orientation': '0ACCC7D22F_Top', 'photo_id': 1}, {'id': 244, 'path': '../data/data_default_processed/2.F.2_G244 - 5B4A11E332_Top_PP2.jpg', 'orientation': '5B4A11E332_Top', 'photo_id': 2}, {'id': 207, 'path': '../data/data_default_processed/2.F.2_G207 - 1F748042AD_Top_PP1.jpg', 'orientation': '1F748042AD_Top', 'photo_id': 1}, {'id': 210, 'path': '../data/data_default_processed/2.F.2_G210 - 3E9B85219F_Top_PP2.jpg', 'orientation': '3E9B85219F_Top', 'photo_id': 2}, {'id': 297, 'path': '../data/data_default_processed/2.F.2_G297 - 40C5AC3DE1_Top_PP1.jpg', 'orientation': '40C5AC3DE1_Top', 'photo_id': 1}, {'id': 210, 'path': '../data/data_default_processed/2.F.2_G210 - 3E9B85219F_Top_PP1.jpg', 'orientation': '3E9B85219F_Top', 'photo_id': 1}, {'id': 297, 'path': '../data/data_default_processed/2.F.2_G297 - 40C5AC3DE1_Top_PP2.jpg', 'orientation': '40C5AC3DE1_Top', 'photo_id': 2}, {'id': 149, 'path': '../data/data_default_processed/2.F.2_G149 - 4A22055D30_Top_PP2.jpg', 'orientation': '4A22055D30_Top', 'photo_id': 2}, {'id': 219, 'path': '../data/data_default_processed/2.F.2_G219 - B7670EF147_Top_PP1.jpg', 'orientation': 'B7670EF147_Top', 'photo_id': 1}, {'id': 177, 'path': '../data/data_default_processed/2.F.2_G177 - 8F13819335_Top_PP2.jpg', 'orientation': '8F13819335_Top', 'photo_id': 2}, {'id': 219, 'path': '../data/data_default_processed/2.F.2_G219 - B7670EF147_Top_PP2.jpg', 'orientation': 'B7670EF147_Top', 'photo_id': 2}, {'id': 142, 'path': '../data/data_default_processed/2.F.2_G142 - 777D4E9F86_Top_PP2.jpg', 'orientation': '777D4E9F86_Top', 'photo_id': 2}, {'id': 296, 'path': '../data/data_default_processed/2.F.2_G296 - 5EF56B3888_Top_PP2.jpg', 'orientation': '5EF56B3888_Top', 'photo_id': 2}, {'id': 306, 'path': '../data/data_default_processed/2.F.2_G306 - 3C890ADF5F_Top_PP2.jpg', 'orientation': '3C890ADF5F_Top', 'photo_id': 2}, {'id': 181, 'path': '../data/data_default_processed/2.F.2_G181 - 34AF4D19F1_Top_PP1.jpg', 'orientation': '34AF4D19F1_Top', 'photo_id': 1}, {'id': 142, 'path': '../data/data_default_processed/2.F.2_G142 - 777D4E9F86_Top_PP1.jpg', 'orientation': '777D4E9F86_Top', 'photo_id': 1}, {'id': 148, 'path': '../data/data_default_processed/2.F.2_G148 - 2ABBADB352_Top_PP1.jpg', 'orientation': '2ABBADB352_Top', 'photo_id': 1}, {'id': 181, 'path': '../data/data_default_processed/2.F.2_G181 - 34AF4D19F1_Top_PP2.jpg', 'orientation': '34AF4D19F1_Top', 'photo_id': 2}, {'id': 207, 'path': '../data/data_default_processed/2.F.2_G207 - 1F748042AD_Top_PP2.jpg', 'orientation': '1F748042AD_Top', 'photo_id': 2}, {'id': 148, 'path': '../data/data_default_processed/2.F.2_G148 - 2ABBADB352_Top_PP2.jpg', 'orientation': '2ABBADB352_Top', 'photo_id': 2}, {'id': 240, 'path': '../data/data_default_processed/2.F.2_G240 - 0ACCC7D22F_Top_PP2.jpg', 'orientation': '0ACCC7D22F_Top', 'photo_id': 2}, {'id': 244, 'path': '../data/data_default_processed/2.F.2_G244 - 5B4A11E332_Top_PP1.jpg', 'orientation': '5B4A11E332_Top', 'photo_id': 1}]\n"
     ]
    }
   ],
   "source": [
    "counter = -1\n",
    "all_files = []\n",
    "for file_path in main_path.glob('2.F.2*.jpg'):\n",
    "    file_name = file_path.name\n",
    "    # print(file_name)\n",
    "    match = prog.match(file_name)\n",
    "    \n",
    "    if match: \n",
    "        board_id = int(match.group(1))\n",
    "        orientation = match.group(2)\n",
    "        photo_id = int(match.group(3))\n",
    "        \n",
    "        all_files.append({'id': board_id, 'path': str(file_path), 'orientation': orientation, 'photo_id': photo_id})\n",
    "\n",
    "print(all_files)\n"
   ]
  },
  {
   "cell_type": "code",
   "execution_count": 38,
   "metadata": {},
   "outputs": [
    {
     "data": {
      "text/html": [
       "<div>\n",
       "<style scoped>\n",
       "    .dataframe tbody tr th:only-of-type {\n",
       "        vertical-align: middle;\n",
       "    }\n",
       "\n",
       "    .dataframe tbody tr th {\n",
       "        vertical-align: top;\n",
       "    }\n",
       "\n",
       "    .dataframe thead th {\n",
       "        text-align: right;\n",
       "    }\n",
       "</style>\n",
       "<table border=\"1\" class=\"dataframe\">\n",
       "  <thead>\n",
       "    <tr style=\"text-align: right;\">\n",
       "      <th></th>\n",
       "      <th>Part Number</th>\n",
       "      <th>Comment</th>\n",
       "      <th>Description</th>\n",
       "      <th>Designator</th>\n",
       "      <th>Footprint</th>\n",
       "      <th>Layer</th>\n",
       "      <th>Ref-X(mm)</th>\n",
       "      <th>Ref-Y(mm)</th>\n",
       "      <th>Rotation</th>\n",
       "      <th>dimX</th>\n",
       "      <th>dimY</th>\n",
       "      <th>dimglueX</th>\n",
       "      <th>dimglueY</th>\n",
       "      <th>max_X</th>\n",
       "      <th>max_Y</th>\n",
       "    </tr>\n",
       "  </thead>\n",
       "  <tbody>\n",
       "    <tr>\n",
       "      <th>1058</th>\n",
       "      <td>790-0014</td>\n",
       "      <td>61083-101400LF</td>\n",
       "      <td>CONN PLUG Mezzanine VERTICAL FEMALE 2X50 P0.8mm</td>\n",
       "      <td>J2_1</td>\n",
       "      <td>CON-PLUG-STRAIGHT-VER-61083-101400LF-AMP</td>\n",
       "      <td>TopLayer</td>\n",
       "      <td>89.55</td>\n",
       "      <td>65.875</td>\n",
       "      <td>0</td>\n",
       "      <td>46.0</td>\n",
       "      <td>4.95</td>\n",
       "      <td>39.200079</td>\n",
       "      <td>5.10101</td>\n",
       "      <td>46.0</td>\n",
       "      <td>5.10101</td>\n",
       "    </tr>\n",
       "  </tbody>\n",
       "</table>\n",
       "</div>"
      ],
      "text/plain": [
       "     Part Number         Comment  \\\n",
       "1058    790-0014  61083-101400LF   \n",
       "\n",
       "                                          Description Designator  \\\n",
       "1058  CONN PLUG Mezzanine VERTICAL FEMALE 2X50 P0.8mm       J2_1   \n",
       "\n",
       "                                     Footprint     Layer  Ref-X(mm)  \\\n",
       "1058  CON-PLUG-STRAIGHT-VER-61083-101400LF-AMP  TopLayer      89.55   \n",
       "\n",
       "      Ref-Y(mm)  Rotation  dimX  dimY   dimglueX  dimglueY  max_X    max_Y  \n",
       "1058     65.875         0  46.0  4.95  39.200079   5.10101   46.0  5.10101  "
      ]
     },
     "execution_count": 38,
     "metadata": {},
     "output_type": "execute_result"
    }
   ],
   "source": [
    "df_top[df_top['Designator']=='J2_1']"
   ]
  },
  {
   "cell_type": "code",
   "execution_count": 133,
   "metadata": {},
   "outputs": [],
   "source": [
    "# Define the template matching method\n",
    "def get_matching_method():\n",
    "    methods = ['cv2.TM_CCOEFF', 'cv2.TM_CCOEFF_NORMED', 'cv2.TM_CCORR',\n",
    "               'cv2.TM_CCORR_NORMED', 'cv2.TM_SQDIFF', 'cv2.TM_SQDIFF_NORMED']\n",
    "    return eval(methods[1])\n",
    "\n",
    "# Load an image and a pattern for template matching\n",
    "def load_images(image_path, pattern_path):\n",
    "    image = cv2.imread(image_path, 1)\n",
    "    pattern_check = cv2.imread(pattern_path, 1)\n",
    "    pattern_check_gray = cv2.cvtColor(pattern_check, cv2.COLOR_BGR2GRAY)\n",
    "    return image, pattern_check_gray\n",
    "\n",
    "# Perform template matching and return the matched results\n",
    "def perform_template_matching(image, pattern_check_gray):\n",
    "    method = get_matching_method()\n",
    "\n",
    "    gray = cv2.cvtColor(image.copy(), cv2.COLOR_BGR2GRAY)\n",
    "    res = cv2.matchTemplate(gray, pattern_check_gray, method)\n",
    "    min_val, max_val, min_loc, max_loc = cv2.minMaxLoc(res)\n",
    "\n",
    "    # Centering the matched result on component and scaling it to mm\n",
    "    matched_result = [(max_loc[0] + (pattern_check_gray.shape[1]/2)), (max_loc[1] + (pattern_check_gray.shape[0]/2))]\n",
    "    \n",
    "    print(f\"Matched Result: {matched_result}\")    \n",
    "    cv2.rectangle(image, max_loc, (max_loc[0] + pattern_check_gray.shape[1], max_loc[1] + pattern_check_gray.shape[0]), (0,0,0), 2, 8, 0 )\n",
    "    cv2.imwrite('all_images_with_match/image_matched_{}.jpg'.format(board_id), image)\n",
    "\n",
    "    return matched_result\n",
    "\n",
    "# Fit the matched results to the csv data\n",
    "def fit_results(matched_result_J2, matched_result_J704, matched_result_BT100, is_top, df_top):\n",
    "    if is_top:\n",
    "        # Coord of csv\n",
    "        component_J2 = df_top[df_top[\"Designator\"]==\"J2_1\"]\n",
    "        x_J2 = component_J2['Ref-X(mm)'].values[0]\n",
    "        y_J2 = component_J2['Ref-Y(mm)'].values[0] \n",
    "        \n",
    "        component_J704 = df_top[df_top[\"Designator\"]==\"J704_1\"]\n",
    "        x_J704 = component_J704['Ref-X(mm)'].values[0]\n",
    "        y_J704 = component_J704['Ref-Y(mm)'].values[0] \n",
    "\n",
    "        component_BT100 = df_top[df_top[\"Designator\"]==\"BT100_1\"]\n",
    "        x_BT100 = component_BT100['Ref-X(mm)'].values[0]\n",
    "        y_BT100 = component_BT100['Ref-Y(mm)'].values[0] \n",
    "        \n",
    "        csv_points = np.array([[x_J2, y_J2], [x_J704, y_J704], [x_BT100, y_BT100]], dtype=np.float32)\n",
    "\n",
    "        # Coord of template\n",
    "        template_points = np.array([matched_result_J2, matched_result_J704, matched_result_BT100], dtype=np.float32)\n",
    "\n",
    "        # Calculate transformation matrix\n",
    "        transformation_matrix, _ = cv2.estimateAffine2D(csv_points, template_points)\n",
    "        \n",
    "        print(f'Transformation Matrix: {transformation_matrix}')\n",
    "\n",
    "    return transformation_matrix\n",
    "\n",
    "# Process the matched results and create component rectangles\n",
    "def process_matched_results(image, matched_results_J2,matched_results_J704, matched_results_BT100, df_top, is_top): \n",
    "    transformation_matrix = fit_results(matched_results_J2, matched_results_J704, matched_results_BT100, is_top, df_top) \n",
    "    components_to_process = [\"J2_1\", \"U701_1\", \"U911U5_1\"]\n",
    "        \n",
    "\n",
    "    # Extract rectangles around the components in components_to_process\n",
    "    for component in components_to_process:\n",
    "        # Get the component's X and Y coordinates from the CSV file\n",
    "        component_data = df_top[df_top[\"Designator\"]==component]\n",
    "        x = component_data['Ref-X(mm)'].values[0]\n",
    "        y = component_data['Ref-Y(mm)'].values[0]\n",
    "\n",
    "        new_point = np.array([[x, y]], dtype=np.float32)\n",
    "        new_camera_point = cv2.transform(new_point.reshape(1, -1, 2), transformation_matrix).squeeze()\n",
    "\n",
    "        print(f\"New Camera Point: {new_camera_point}\")\n",
    "\n",
    "        # Load the pattern image\n",
    "        modified_comp_string = component.replace(\"_1\", \"\")\n",
    "        pattern_path = f'../data/template_images/{modified_comp_string}.jpg'\n",
    "        pattern_check_component = cv2.imread(pattern_path, 1)  \n",
    "        \n",
    "        Width = int(pattern_check_component.shape[1]/2)  \n",
    "        Height = int(pattern_check_component.shape[0]/2)\n",
    "\n",
    "        # cv2.rectangle(image, max_loc, (max_loc[0] + pattern_check_gray.shape[1], max_loc[1] + pattern_check_gray.shape[0]), (0,0,0), 2, 8, 0 )\n",
    "        cv2.rectangle(image, (int(new_camera_point[0]) - Width, int(new_camera_point[1]) - Height), (int(new_camera_point[0]) + Width, int(new_camera_point[1]) + Height),(255,0,0), 2, 8, 0)\n",
    "        \n",
    "\n",
    "    # Save the image with the rectangles\n",
    "    cv2.imwrite(f'all_images_with_match/image_matched_{board_id}_6.jpg', image)\n",
    "\n",
    "\n",
    "# Main function for processing images\n",
    "def process_images(all_files, df_top):\n",
    "    board_already_done = []\n",
    "    status_bar = tqdm(total=len(all_files))\n",
    "\n",
    "    is_top = True\n",
    "    is_PP1 = True\n",
    "    is_2F2 = True\n",
    "\n",
    "    for a_pic in all_files[0:1]:\n",
    "        status_bar.update()\n",
    "\n",
    "        board_id = a_pic['id']\n",
    "        orientation = a_pic['orientation']\n",
    "        photo_PP_id = a_pic['photo_id']\n",
    "        board_already_done.append(board_id)\n",
    "  \n",
    "        image, pattern_check_gray_J2 = load_images(a_pic['path'], '../data/template_images/J2.jpg') \n",
    "        image, pattern_check_gray_J704 = load_images(a_pic['path'], '../data/template_images/J704.jpg')\n",
    "        image, pattern_check_gray_BT100 = load_images(a_pic['path'], '../data/template_images/BT100.jpg')\n",
    "        matched_result_J2 = perform_template_matching(image, pattern_check_gray_J2)\n",
    "        matched_result_J704 = perform_template_matching(image, pattern_check_gray_J704)\n",
    "        matched_result_BT100 = perform_template_matching(image, pattern_check_gray_BT100)\n",
    "        process_matched_results(image, matched_result_J2, matched_result_J704, matched_result_BT100, df_top, is_top)   \n",
    "  \n",
    "    status_bar.close()"
   ]
  },
  {
   "cell_type": "code",
   "execution_count": 134,
   "metadata": {},
   "outputs": [
    {
     "data": {
      "application/vnd.jupyter.widget-view+json": {
       "model_id": "95cf38f22f164667b9e575a4a0877c5f",
       "version_major": 2,
       "version_minor": 0
      },
      "text/plain": [
       "  0%|          | 0/28 [00:00<?, ?it/s]"
      ]
     },
     "metadata": {},
     "output_type": "display_data"
    },
    {
     "name": "stdout",
     "output_type": "stream",
     "text": [
      "Matched Result: [4926.5, 3689.5]\n",
      "Matched Result: [1532.0, 2305.0]\n",
      "Matched Result: [7255.5, 1835.5]\n",
      "Transformation Matrix: [[ 4.73543745e+01 -2.54471522e+00  8.53548733e+02]\n",
      " [-1.38510802e-01 -4.88275242e+01  6.91841680e+03]]\n",
      "New Camera Point: [4926.5    3689.5002]\n",
      "New Camera Point: [1392.5042 5627.5977]\n",
      "New Camera Point: [4045.2822 4584.5757]\n"
     ]
    }
   ],
   "source": [
    "process_images(all_files, df_top)"
   ]
  }
 ],
 "metadata": {
  "kernelspec": {
   "display_name": "base",
   "language": "python",
   "name": "python3"
  },
  "language_info": {
   "codemirror_mode": {
    "name": "ipython",
    "version": 3
   },
   "file_extension": ".py",
   "mimetype": "text/x-python",
   "name": "python",
   "nbconvert_exporter": "python",
   "pygments_lexer": "ipython3",
   "version": "3.11.4"
  },
  "orig_nbformat": 4
 },
 "nbformat": 4,
 "nbformat_minor": 2
}
